{
 "cells": [
  {
   "cell_type": "markdown",
   "metadata": {},
   "source": [
    "# Insights"
   ]
  },
  {
   "cell_type": "code",
   "execution_count": 1,
   "metadata": {},
   "outputs": [],
   "source": [
    "import os\n",
    "import core\n",
    "import numpy as np\n",
    "import pandas as pd\n",
    "import matplotlib.pyplot as plt"
   ]
  },
  {
   "cell_type": "markdown",
   "metadata": {},
   "source": [
    "### **Analysis Setup**\n",
    "\n",
    "To explore the data, we must first pull all of the scraped data into \"nice\" tabular forms"
   ]
  },
  {
   "cell_type": "code",
   "execution_count": 11,
   "metadata": {},
   "outputs": [],
   "source": [
    "# specify the paths to data files\n",
    "problems_path = os.path.join(\"data\",\"problems.json\") \n",
    "hold_setup_base = \"-hold-setup.json\"\n",
    "holdsetup_path_2020_mini = os.path.join(\"data\",\"mini-moonboard-2020\"+hold_setup_base)\n",
    "holdsetup_path_2020 = os.path.join(\"data\",\"moonboard-2020\"+hold_setup_base)\n",
    "holdsetup_path_2019 = os.path.join(\"data\",\"moonboard-masters-2019\"+hold_setup_base)\n",
    "holdsetup_path_2017 = os.path.join(\"data\",\"moonboard-masters-2017\"+hold_setup_base)\n",
    "\n",
    "# extract data from file\n",
    "problems = core.import_json(problems_path)\n",
    "holds_mini = core.import_json(holdsetup_path_2020_mini)\n",
    "holds_2020 = core.import_json(holdsetup_path_2020)\n",
    "holds_2019 = core.import_json(holdsetup_path_2019)\n",
    "holds_2017 = core.import_json(holdsetup_path_2017)"
   ]
  },
  {
   "cell_type": "code",
   "execution_count": 130,
   "metadata": {},
   "outputs": [],
   "source": [
    "# convert holdset json objects to tabular dataframe\n",
    "setups = {\"Mini-Moonboard-2020\":holds_mini,\"Moonboard-2020\":holds_2020,\"2019-Masters\":holds_2019,\"2017-Masters\":holds_2017}\n",
    "hold_df = pd.DataFrame()\n",
    "for name,setup in setups.items():\n",
    "    df_set = pd.DataFrame()\n",
    "    for holdset in setup:\n",
    "        # unroll nested dictionaries per holdset in setup in setups\n",
    "        df1 = pd.DataFrame.from_dict(holdset).rename(columns={\"Id\":\"HoldsetId\",\"Description\":\"HoldsetName\",\"Color\":\"HoldsetColor\"}).drop(columns=[\"Holds\"])\n",
    "        df2 = pd.DataFrame.from_dict(holdset[\"Holds\"]).rename(columns={\"Id\":\"HoldId\",\"Number\":\"HoldNumber\"}).drop(columns=[\"Location\",\"HoldsetDescription\"])\n",
    "        df3 = pd.DataFrame.from_records(pd.DataFrame.from_dict(holdset[\"Holds\"])[\"Location\"]).rename(columns={\n",
    "            \"Description\":\"LocationCode\",\"DirectionString\":\"DirectionCode\"}).drop(columns=[\n",
    "                \"Id\",\"Holdset\",\"Color\",\"Type\",\"HoldNumber\"])\n",
    "        # concatenate the unrolled data together into one dataframe, add shared feature, and append to master dataframe\n",
    "        con = pd.concat([df1,df2,df3],axis=1)\n",
    "        con[\"BoardSetup\"] = name\n",
    "        hold_df = pd.concat([hold_df,con])"
   ]
  },
  {
   "cell_type": "code",
   "execution_count": 131,
   "metadata": {},
   "outputs": [
    {
     "name": "stdout",
     "output_type": "stream",
     "text": [
      "<class 'pandas.core.frame.DataFrame'>\n",
      "Int64Index: 656 entries, 0 to 31\n",
      "Data columns (total 13 columns):\n",
      " #   Column         Non-Null Count  Dtype \n",
      "---  ------         --------------  ----- \n",
      " 0   HoldsetId      656 non-null    int64 \n",
      " 1   HoldsetName    656 non-null    object\n",
      " 2   HoldsetColor   656 non-null    object\n",
      " 3   HoldId         656 non-null    int64 \n",
      " 4   HoldNumber     656 non-null    object\n",
      " 5   HoldType       656 non-null    int64 \n",
      " 6   LocationCode   656 non-null    object\n",
      " 7   X              656 non-null    int64 \n",
      " 8   Y              656 non-null    int64 \n",
      " 9   Rotation       656 non-null    int64 \n",
      " 10  Direction      656 non-null    int64 \n",
      " 11  DirectionCode  656 non-null    object\n",
      " 12  BoardSetup     656 non-null    object\n",
      "dtypes: int64(7), object(6)\n",
      "memory usage: 71.8+ KB\n",
      "None\n"
     ]
    }
   ],
   "source": [
    "print(hold_df.info())"
   ]
  },
  {
   "cell_type": "code",
   "execution_count": 128,
   "metadata": {},
   "outputs": [],
   "source": [
    "# convert problems json object to tabular dataframe\n",
    "df1 = pd.DataFrame.from_dict(problems,orient=\"index\").drop(columns=[\"UserGrade\",\"MoonBoardConfiguration\",\"Setter\",\n",
    "    \"MoonBoardConfigurationId\",\"FirstAscender\",\"Rating\",\"NumberOfTries\",\"NameForUrl\",\"ApiId\",\"DateInserted\",\"DateUpdated\",\n",
    "    \"DateDeleted\",\"Holdsetup\",\"Moves\",\"Locations\",\"Attempts\",\"ProblemType\",\"Holdsets\",\"RepeatText\",\"IsMaster\",\n",
    "    \"IsAssessmentProblem\"]).rename(columns={\"DateTimeString\":\"RouteRecordDate\",\"Id\":\"RouteId\",\"UserRating\":\"RouteRating\",\n",
    "    \"Grade\":\"RouteGrade\",\"Name\":\"RouteName\",\"Method\":\"RouteMethod\",\"Repeats\":\"RouteRepeats\"}).reset_index(drop=True)\n",
    "df2 = pd.DataFrame.from_records(pd.DataFrame.from_dict(problems,orient=\"index\")[\"MoonBoardConfiguration\"]).drop(columns=[\n",
    "    \"LowGrade\",\"HighGrade\"]).rename(columns={\"Id\":\"ConfigurationId\",\"Description\":\"ConfigurationName\"}).reset_index(drop=True)\n",
    "df3 = pd.DataFrame.from_records(pd.DataFrame.from_dict(problems,orient=\"index\")[\"Setter\"]).drop(columns=[\"ProfileImageUrl\",\n",
    "    \"Firstname\",\"Lastname\",\"CanShareData\"]).rename(columns={\"Id\":\"SetterId\",\"Nickname\":\"SetterName\",\"City\":\"SetterCity\",\n",
    "    \"Country\":\"SetterCountry\"}).reset_index(drop=True)\n",
    "problem_df = pd.concat([df1,df2,df3],axis=1)"
   ]
  },
  {
   "cell_type": "code",
   "execution_count": 132,
   "metadata": {},
   "outputs": [
    {
     "name": "stdout",
     "output_type": "stream",
     "text": [
      "<class 'pandas.core.frame.DataFrame'>\n",
      "RangeIndex: 1390 entries, 0 to 1389\n",
      "Data columns (total 16 columns):\n",
      " #   Column             Non-Null Count  Dtype \n",
      "---  ------             --------------  ----- \n",
      " 0   RouteMethod        1390 non-null   object\n",
      " 1   RouteName          1390 non-null   object\n",
      " 2   RouteGrade         1390 non-null   object\n",
      " 3   RouteRating        1390 non-null   int64 \n",
      " 4   RouteRepeats       1390 non-null   int64 \n",
      " 5   IsBenchmark        1390 non-null   bool  \n",
      " 6   Upgraded           1390 non-null   bool  \n",
      " 7   Downgraded         1390 non-null   bool  \n",
      " 8   RouteId            1390 non-null   int64 \n",
      " 9   RouteRecordDate    1390 non-null   object\n",
      " 10  ConfigurationId    1390 non-null   int64 \n",
      " 11  ConfigurationName  1390 non-null   object\n",
      " 12  SetterId           1390 non-null   object\n",
      " 13  SetterName         1390 non-null   object\n",
      " 14  SetterCity         1390 non-null   object\n",
      " 15  SetterCountry      1390 non-null   object\n",
      "dtypes: bool(3), int64(4), object(9)\n",
      "memory usage: 145.4+ KB\n",
      "None\n"
     ]
    }
   ],
   "source": [
    "print(problem_df.info())"
   ]
  },
  {
   "cell_type": "code",
   "execution_count": 129,
   "metadata": {},
   "outputs": [],
   "source": [
    "# convert moves embedded in problems json object to tabular dataframe\n",
    "df4 = pd.DataFrame.from_dict(pd.DataFrame.from_dict(problems,orient=\"index\")[\"Moves\"]).reset_index(drop=True)\n",
    "move_df = pd.DataFrame()\n",
    "i = 0\n",
    "for moves in df4[\"Moves\"]:\n",
    "    df5 = pd.DataFrame.from_records(moves).rename(columns={\"Id\":\"MoveId\"})\n",
    "    df5[\"RouteId\"] = df1.at[i,\"RouteId\"]\n",
    "    move_df = pd.concat([move_df,df5])\n",
    "    i += 1"
   ]
  },
  {
   "cell_type": "code",
   "execution_count": 133,
   "metadata": {},
   "outputs": [
    {
     "name": "stdout",
     "output_type": "stream",
     "text": [
      "<class 'pandas.core.frame.DataFrame'>\n",
      "Int64Index: 8876 entries, 0 to 5\n",
      "Data columns (total 5 columns):\n",
      " #   Column       Non-Null Count  Dtype \n",
      "---  ------       --------------  ----- \n",
      " 0   MoveId       8876 non-null   int64 \n",
      " 1   Description  8876 non-null   object\n",
      " 2   IsStart      8876 non-null   bool  \n",
      " 3   IsEnd        8876 non-null   bool  \n",
      " 4   RouteId      8876 non-null   int64 \n",
      "dtypes: bool(2), int64(2), object(1)\n",
      "memory usage: 294.7+ KB\n",
      "None\n"
     ]
    }
   ],
   "source": [
    "print(move_df.info())"
   ]
  },
  {
   "cell_type": "markdown",
   "metadata": {},
   "source": [
    "### **Exploratory Data Analysis**\n",
    "Now that we have formatted the data \"nicely\", we can begin the process of identifying patterns which might be indicative of collinear relationships"
   ]
  },
  {
   "cell_type": "code",
   "execution_count": null,
   "metadata": {},
   "outputs": [],
   "source": []
  },
  {
   "cell_type": "code",
   "execution_count": null,
   "metadata": {},
   "outputs": [],
   "source": []
  },
  {
   "cell_type": "code",
   "execution_count": null,
   "metadata": {},
   "outputs": [],
   "source": []
  },
  {
   "cell_type": "code",
   "execution_count": null,
   "metadata": {},
   "outputs": [],
   "source": []
  },
  {
   "cell_type": "code",
   "execution_count": null,
   "metadata": {},
   "outputs": [],
   "source": []
  },
  {
   "cell_type": "code",
   "execution_count": null,
   "metadata": {},
   "outputs": [],
   "source": []
  },
  {
   "cell_type": "code",
   "execution_count": null,
   "metadata": {},
   "outputs": [],
   "source": []
  },
  {
   "cell_type": "code",
   "execution_count": null,
   "metadata": {},
   "outputs": [],
   "source": []
  }
 ],
 "metadata": {
  "interpreter": {
   "hash": "6d1c13d40690f58e83ae36645de2ffc7b3a60836c1650ae65354e3923f4ba880"
  },
  "kernelspec": {
   "display_name": "Python 3.8.10 ('moonbot-imaaLcZC')",
   "language": "python",
   "name": "python3"
  },
  "language_info": {
   "codemirror_mode": {
    "name": "ipython",
    "version": 3
   },
   "file_extension": ".py",
   "mimetype": "text/x-python",
   "name": "python",
   "nbconvert_exporter": "python",
   "pygments_lexer": "ipython3",
   "version": "3.8.10"
  },
  "orig_nbformat": 4
 },
 "nbformat": 4,
 "nbformat_minor": 2
}
